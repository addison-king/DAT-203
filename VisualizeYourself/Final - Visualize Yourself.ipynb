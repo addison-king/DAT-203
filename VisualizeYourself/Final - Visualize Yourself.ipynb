{
 "cells": [
  {
   "cell_type": "markdown",
   "metadata": {},
   "source": [
    "#### Notes / Links\n",
    "\n",
    "List of named colors instead of using codes:\n",
    "https://matplotlib.org/3.1.0/gallery/color/named_colors.html\n",
    "\n",
    "Spines of a graph:\n",
    "https://matplotlib.org/3.3.3/api/spines_api.html?highlight=spines#module-matplotlib.spines\n",
    "    \n",
    "Making subplots fit better with themselves:\n",
    "https://matplotlib.org/3.3.3/api/_as_gen/matplotlib.pyplot.tight_layout.html#matplotlib.pyplot.tight_layout\n",
    "\n"
   ]
  },
  {
   "cell_type": "code",
   "execution_count": 92,
   "metadata": {},
   "outputs": [],
   "source": [
    "import pandas as pd\n",
    "from pandas import read_csv\n",
    "import matplotlib.pyplot as plt"
   ]
  },
  {
   "cell_type": "code",
   "execution_count": 159,
   "metadata": {},
   "outputs": [],
   "source": [
    "# Import each raw data .csv file\n",
    "# Note: the original datasets are not published\n",
    "\n",
    "metalcore_data = pd.read_csv('Data/Metalcore.csv',header=None)\n",
    "classical_data = pd.read_csv('Data/Classical.csv',header=None)\n",
    "silence_data = pd.read_csv('Data/Silence.csv',header=None)\n",
    "tv_data = pd.read_csv('Data/TV.csv',header=None)\n",
    "audiobook_data = pd.read_csv('Data/Audiobook.csv',header=None)\n",
    "country_data = pd.read_csv('Data/Country.csv',header=None)\n",
    "##\n",
    "metalcore_data = metalcore_data.rename(columns={0: 'Metalcore'})\n",
    "classical_data = classical_data.rename(columns={0: 'Classical'})\n",
    "silence_data = silence_data.rename(columns={0: 'Silence'})\n",
    "tv_data = tv_data.rename(columns={0: 'TV Show'})\n",
    "audiobook_data = audiobook_data.rename(columns={0: 'Audiobook'})\n",
    "country_data = country_data.rename(columns={0: 'Country'})"
   ]
  },
  {
   "cell_type": "code",
   "execution_count": 160,
   "metadata": {},
   "outputs": [],
   "source": [
    "metalcore_std = metalcore_data.std()\n",
    "classical_std = classical_data.std()\n",
    "silence_std = silence_data.std()\n",
    "tv_std = tv_data.std()\n",
    "audiobook_std = audiobook_data.std()\n",
    "country_std = country_data.std()\n",
    "\n",
    "metalcore_stddev = str(round(metalcore_std[0],3))\n",
    "classical_stddev = str(round(classical_std[0],3))\n",
    "silence_stddev = str(round(silence_std[0],3))\n",
    "tv_stddev = str(round(tv_std[0],3))\n",
    "audiobook_stddev = str(round(audiobook_std[0],3))\n",
    "country_stddev = str(round(country_std[0],3))"
   ]
  },
  {
   "cell_type": "code",
   "execution_count": null,
   "metadata": {},
   "outputs": [],
   "source": []
  },
  {
   "cell_type": "code",
   "execution_count": 161,
   "metadata": {},
   "outputs": [
    {
     "data": {
      "image/png": "[encoded data removed]",
      "text/plain": [
       "<Figure size 1008x576 with 6 Axes>"
      ]
     },
     "metadata": {
      "needs_background": "light"
     },
     "output_type": "display_data"
    }
   ],
   "source": [
    "hist_small_multiple = plt.figure(figsize=(14,8))\n",
    "\n",
    "ax1 = plt.subplot(231)\n",
    "ax1.hist(metalcore_data, 20, histtype='step', color='black')\n",
    "# plt.title('Metalcore')\n",
    "plt.xlabel('Metalcore\\n (σ='+metalcore_stddev+')')\n",
    "plt.yticks([])\n",
    "plt.xlim([15, 41])\n",
    "ax1.spines['top'].set_visible(False)\n",
    "ax1.spines['left'].set_visible(False)\n",
    "ax1.spines['right'].set_visible(False)\n",
    "#\n",
    "ax2 = plt.subplot(232)\n",
    "ax2.hist(classical_data, 20, histtype='step', color='black')\n",
    "# plt.title('Classical')\n",
    "plt.xlabel('Classical\\n (σ='+classical_stddev+')')\n",
    "plt.yticks([])\n",
    "plt.xlim([15, 41])\n",
    "ax2.spines['top'].set_visible(False)\n",
    "ax2.spines['left'].set_visible(False)\n",
    "ax2.spines['right'].set_visible(False)\n",
    "#\n",
    "ax3 = plt.subplot(233)\n",
    "ax3.hist(silence_data, 20, histtype='step', color='black')\n",
    "# plt.title('Silence')\n",
    "plt.xlabel('Silence\\n (σ='+silence_stddev+')')\n",
    "plt.yticks([])\n",
    "plt.xlim([15, 41])\n",
    "ax3.spines['top'].set_visible(False)\n",
    "ax3.spines['left'].set_visible(False)\n",
    "ax3.spines['right'].set_visible(False)\n",
    "#\n",
    "ax4 = plt.subplot(234)\n",
    "ax4.hist(tv_data, 20, histtype='step', color='black')\n",
    "# plt.title('TV Show')\n",
    "plt.xlabel('TV Show\\n (σ='+tv_stddev+')')\n",
    "plt.yticks([])\n",
    "plt.xlim([15, 41])\n",
    "ax4.spines['top'].set_visible(False)\n",
    "ax4.spines['left'].set_visible(False)\n",
    "ax4.spines['right'].set_visible(False)\n",
    "#\n",
    "ax5 = plt.subplot(235)\n",
    "ax5.hist(audiobook_data, 20, histtype='step', color='black')\n",
    "# plt.title('Audiobook')\n",
    "plt.xlabel('Audiobook\\n (σ='+audiobook_stddev+')')\n",
    "plt.yticks([])\n",
    "plt.xlim([15, 41])\n",
    "ax5.spines['top'].set_visible(False)\n",
    "ax5.spines['left'].set_visible(False)\n",
    "ax5.spines['right'].set_visible(False)\n",
    "#\n",
    "ax6 = plt.subplot(236)\n",
    "ax6.hist(country_data, 20, histtype='step', color='black')\n",
    "# plt.title('Country')\n",
    "plt.xlabel('Country\\n (σ='+country_stddev+')')\n",
    "plt.yticks([])\n",
    "plt.xlim([15, 41])\n",
    "ax6.spines['top'].set_visible(False)\n",
    "ax6.spines['left'].set_visible(False)\n",
    "ax6.spines['right'].set_visible(False)\n",
    "\n",
    "plt.tight_layout(w_pad=1.5, h_pad=1.0)\n",
    "\n",
    "plt.show()"
   ]
  },
  {
   "cell_type": "code",
   "execution_count": 142,
   "metadata": {},
   "outputs": [],
   "source": [
    "hist_small_multiple.savefig('Images\\Hist_Small_Multiple.png', dpi=300)"
   ]
  },
  {
   "cell_type": "code",
   "execution_count": 177,
   "metadata": {},
   "outputs": [
    {
     "name": "stdout",
     "output_type": "stream",
     "text": [
      "     Metalcore\n",
      "0        23.66\n",
      "1        25.48\n",
      "2        26.39\n",
      "3        23.93\n",
      "4        27.24\n",
      "..         ...\n",
      "355      21.80\n",
      "356      25.00\n",
      "357      22.80\n",
      "358      24.90\n",
      "359      21.50\n",
      "\n",
      "[360 rows x 1 columns]\n"
     ]
    }
   ],
   "source": [
    "print(metalcore_data)\n",
    "\n",
    "metalcore_times = metalcore_data['Metalcore'].to_list()\n",
    "classical_times = classical_data['Classical'].to_list()\n",
    "silence_times = silence_data['Silence'].to_list()\n",
    "tv_times = tv_data['TV Show'].to_list()\n",
    "audiobook_times = audiobook_data['Audiobook'].to_list()\n",
    "country_times = country_data['Country'].to_list()\n",
    "\n",
    "times = [metalcore_times, classical_times]\n"
   ]
  },
  {
   "cell_type": "code",
   "execution_count": null,
   "metadata": {},
   "outputs": [],
   "source": []
  },
  {
   "cell_type": "code",
   "execution_count": 178,
   "metadata": {},
   "outputs": [
    {
     "data": {
      "image/png": "[encoded data removed]",
      "text/plain": [
       "<Figure size 1008x576 with 1 Axes>"
      ]
     },
     "metadata": {
      "needs_background": "light"
     },
     "output_type": "display_data"
    }
   ],
   "source": [
    "box_whisker = plt.figure(figsize=(14,8))\n",
    "\n",
    "ax1 = plt.subplot(111)\n",
    "ax1.boxplot(times)\n",
    "\n",
    "plt.show()"
   ]
  },
  {
   "cell_type": "code",
   "execution_count": null,
   "metadata": {},
   "outputs": [],
   "source": []
  }
 ],
 "metadata": {
  "kernelspec": {
   "display_name": "Python 3",
   "language": "python",
   "name": "python3"
  },
  "language_info": {
   "codemirror_mode": {
    "name": "ipython",
    "version": 3
   },
   "file_extension": ".py",
   "mimetype": "text/x-python",
   "name": "python",
   "nbconvert_exporter": "python",
   "pygments_lexer": "ipython3",
   "version": "3.8.5"
  }
 },
 "nbformat": 4,
 "nbformat_minor": 4
}
