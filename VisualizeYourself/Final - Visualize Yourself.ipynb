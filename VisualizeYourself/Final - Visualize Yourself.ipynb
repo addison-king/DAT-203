{
 "cells": [
  {
   "cell_type": "markdown",
   "metadata": {},
   "source": [
    "#### Notes / Links\n",
    "\n",
    "List of named colors instead of using codes:<br>\n",
    "&emsp;https://matplotlib.org/3.1.0/gallery/color/named_colors.html\n",
    "\n",
    "Spines of a graph:<br>\n",
    "&emsp;https://matplotlib.org/3.3.3/api/spines_api.html?highlight=spines#module-matplotlib.spines\n",
    "    \n",
    "Making subplots fit better with themselves:<br>\n",
    "&emsp;https://matplotlib.org/3.3.3/api/_as_gen/matplotlib.pyplot.tight_layout.html#matplotlib.pyplot.tight_layout\n",
    "\n",
    "Boxplot code ideas:<br>\n",
    "&emsp;https://towardsdatascience.com/create-and-customize-boxplots-with-pythons-matplotlib-to-get-lots-of-insights-from-your-data-d561c9883643<br>\n",
    "&emsp;https://matplotlib.org/3.1.0/gallery/statistics/boxplot.html"
   ]
  },
  {
   "cell_type": "code",
   "execution_count": 344,
   "metadata": {},
   "outputs": [],
   "source": [
    "import pandas as pd\n",
    "from pandas import read_csv\n",
    "import matplotlib.pyplot as plt\n",
    "from scipy import stats\n",
    "from scipy.stats import ttest_ind\n",
    "from scipy.stats import ttest_rel"
   ]
  },
  {
   "cell_type": "code",
   "execution_count": 337,
   "metadata": {},
   "outputs": [],
   "source": [
    "# Import each raw data .csv file\n",
    "# Note: the original datasets are not published\n",
    "\n",
    "metalcore_data = pd.read_csv('Data/Metalcore.csv',header=None)\n",
    "classical_data = pd.read_csv('Data/Classical.csv',header=None)\n",
    "silence_data = pd.read_csv('Data/Silence.csv',header=None)\n",
    "tv_data = pd.read_csv('Data/TV.csv',header=None)\n",
    "audiobook_data = pd.read_csv('Data/Audiobook.csv',header=None)\n",
    "country_data = pd.read_csv('Data/Country.csv',header=None)\n",
    "##\n",
    "metalcore_data = metalcore_data.rename(columns={0: 'Metalcore'})\n",
    "classical_data = classical_data.rename(columns={0: 'Classical'})\n",
    "silence_data = silence_data.rename(columns={0: 'Silence'})\n",
    "tv_data = tv_data.rename(columns={0: 'TV Show'})\n",
    "audiobook_data = audiobook_data.rename(columns={0: 'Audiobook'})\n",
    "country_data = country_data.rename(columns={0: 'Country'})\n",
    "##\n"
   ]
  },
  {
   "cell_type": "code",
   "execution_count": 160,
   "metadata": {},
   "outputs": [],
   "source": [
    "metalcore_std = metalcore_data.std()\n",
    "classical_std = classical_data.std()\n",
    "silence_std = silence_data.std()\n",
    "tv_std = tv_data.std()\n",
    "audiobook_std = audiobook_data.std()\n",
    "country_std = country_data.std()\n",
    "\n",
    "metalcore_stddev = str(round(metalcore_std[0],3))\n",
    "classical_stddev = str(round(classical_std[0],3))\n",
    "silence_stddev = str(round(silence_std[0],3))\n",
    "tv_stddev = str(round(tv_std[0],3))\n",
    "audiobook_stddev = str(round(audiobook_std[0],3))\n",
    "country_stddev = str(round(country_std[0],3))"
   ]
  },
  {
   "cell_type": "markdown",
   "metadata": {},
   "source": [
    "# Histogram Creation"
   ]
  },
  {
   "cell_type": "code",
   "execution_count": 161,
   "metadata": {},
   "outputs": [
    {
     "data": {
      "image/png": "[encoded data removed]",
      "text/plain": [
       "<Figure size 1008x576 with 6 Axes>"
      ]
     },
     "metadata": {
      "needs_background": "light"
     },
     "output_type": "display_data"
    }
   ],
   "source": [
    "hist_small_multiple = plt.figure(figsize=(14,8))\n",
    "\n",
    "ax1 = plt.subplot(231)\n",
    "ax1.hist(metalcore_data, 20, histtype='step', color='black')\n",
    "# plt.title('Metalcore')\n",
    "plt.xlabel('Metalcore\\n (σ='+metalcore_stddev+')')\n",
    "plt.yticks([])\n",
    "plt.xlim([15, 41])\n",
    "ax1.spines['top'].set_visible(False)\n",
    "ax1.spines['left'].set_visible(False)\n",
    "ax1.spines['right'].set_visible(False)\n",
    "#\n",
    "ax2 = plt.subplot(232)\n",
    "ax2.hist(classical_data, 20, histtype='step', color='black')\n",
    "# plt.title('Classical')\n",
    "plt.xlabel('Classical\\n (σ='+classical_stddev+')')\n",
    "plt.yticks([])\n",
    "plt.xlim([15, 41])\n",
    "ax2.spines['top'].set_visible(False)\n",
    "ax2.spines['left'].set_visible(False)\n",
    "ax2.spines['right'].set_visible(False)\n",
    "#\n",
    "ax3 = plt.subplot(233)\n",
    "ax3.hist(silence_data, 20, histtype='step', color='black')\n",
    "# plt.title('Silence')\n",
    "plt.xlabel('Silence\\n (σ='+silence_stddev+')')\n",
    "plt.yticks([])\n",
    "plt.xlim([15, 41])\n",
    "ax3.spines['top'].set_visible(False)\n",
    "ax3.spines['left'].set_visible(False)\n",
    "ax3.spines['right'].set_visible(False)\n",
    "#\n",
    "ax4 = plt.subplot(234)\n",
    "ax4.hist(tv_data, 20, histtype='step', color='black')\n",
    "# plt.title('TV Show')\n",
    "plt.xlabel('TV Show\\n (σ='+tv_stddev+')')\n",
    "plt.yticks([])\n",
    "plt.xlim([15, 41])\n",
    "ax4.spines['top'].set_visible(False)\n",
    "ax4.spines['left'].set_visible(False)\n",
    "ax4.spines['right'].set_visible(False)\n",
    "#\n",
    "ax5 = plt.subplot(235)\n",
    "ax5.hist(audiobook_data, 20, histtype='step', color='black')\n",
    "# plt.title('Audiobook')\n",
    "plt.xlabel('Audiobook\\n (σ='+audiobook_stddev+')')\n",
    "plt.yticks([])\n",
    "plt.xlim([15, 41])\n",
    "ax5.spines['top'].set_visible(False)\n",
    "ax5.spines['left'].set_visible(False)\n",
    "ax5.spines['right'].set_visible(False)\n",
    "#\n",
    "ax6 = plt.subplot(236)\n",
    "ax6.hist(country_data, 20, histtype='step', color='black')\n",
    "# plt.title('Country')\n",
    "plt.xlabel('Country\\n (σ='+country_stddev+')')\n",
    "plt.yticks([])\n",
    "plt.xlim([15, 41])\n",
    "ax6.spines['top'].set_visible(False)\n",
    "ax6.spines['left'].set_visible(False)\n",
    "ax6.spines['right'].set_visible(False)\n",
    "\n",
    "plt.tight_layout(w_pad=1.5, h_pad=1.0)\n",
    "\n",
    "plt.show()"
   ]
  },
  {
   "cell_type": "code",
   "execution_count": 142,
   "metadata": {},
   "outputs": [],
   "source": [
    "hist_small_multiple.savefig('Images\\Hist_Small_Multiple.png', dpi=300)"
   ]
  },
  {
   "cell_type": "markdown",
   "metadata": {},
   "source": [
    "# Boxplot Creation"
   ]
  },
  {
   "cell_type": "code",
   "execution_count": 260,
   "metadata": {},
   "outputs": [],
   "source": [
    "# print(metalcore_data)\n",
    "\n",
    "metalcore_times = metalcore_data['Metalcore'].to_list()\n",
    "classical_times = classical_data['Classical'].to_list()\n",
    "silence_times = silence_data['Silence'].to_list()\n",
    "tv_times = tv_data['TV Show'].to_list()\n",
    "audiobook_times = audiobook_data['Audiobook'].to_list()\n",
    "country_times = country_data['Country'].to_list()\n",
    "\n",
    "times = [metalcore_times, classical_times, silence_times, tv_times, audiobook_times, country_times]"
   ]
  },
  {
   "cell_type": "code",
   "execution_count": 249,
   "metadata": {},
   "outputs": [],
   "source": [
    "# box_whisker = plt.figure(figsize=(8,6))\n",
    "\n",
    "# ax1 = plt.subplot(111)\n",
    "# ax1.boxplot(times)\n",
    "# plt.xticks([1, 2, 3, 4, 5, 6], ['Metalcore', 'Classical', 'Silence', 'TV Show', 'Audiobook', 'Country'])\n",
    "\n",
    "# plt.tight_layout(w_pad=.5, h_pad=1.0)\n",
    "# plt.show()"
   ]
  },
  {
   "cell_type": "code",
   "execution_count": 259,
   "metadata": {},
   "outputs": [
    {
     "data": {
      "image/png": "[encoded data removed]",
      "text/plain": [
       "<Figure size 576x432 with 1 Axes>"
      ]
     },
     "metadata": {
      "needs_background": "light"
     },
     "output_type": "display_data"
    }
   ],
   "source": [
    "labels = ['Metalcore', 'Classical', 'Silence', 'TV Show', 'Audiobook', 'Country']\n",
    "flierprops = dict(marker='.', markerfacecolor='black', markersize=2, linestyle='none')\n",
    "medianprops = dict(marker='.', markerfacecolor='black', markeredgecolor='white', markersize=12, linestyle='none')\n",
    "\n",
    "fig, ax = plt.subplots(figsize=(8,6))\n",
    "plt.ylabel('Seconds')\n",
    "plt.title('Rubik\\'s Cube Solve Time by Auditory Stimuli', fontsize=16)\n",
    "plt.xlim([0, 1.75])\n",
    "plt.ylim([15, 42])\n",
    "\n",
    "\n",
    "ax.yaxis.set_ticks_position('none')\n",
    "ax.xaxis.set_ticks_position('none')\n",
    "ax.spines['top'].set_visible(False)\n",
    "ax.spines['right'].set_visible(False)\n",
    "ax.spines['left'].set_visible(False)\n",
    "ax.spines['bottom'].set_visible(False)\n",
    "\n",
    "ax.boxplot(times[0], positions=[.25], labels=[labels[0]], widths=.001,\n",
    "           flierprops=flierprops, medianprops=medianprops, \n",
    "           showbox=False, showcaps=False)\n",
    "ax.boxplot(times[1], positions=[.5], labels=[labels[1]], widths=.001,\n",
    "           flierprops=flierprops, medianprops=medianprops, \n",
    "           showbox=False, showcaps=False)\n",
    "ax.boxplot(times[2], positions=[.75], labels=[labels[2]], widths=.001,\n",
    "           flierprops=flierprops, medianprops=medianprops, \n",
    "           showbox=False, showcaps=False)\n",
    "ax.boxplot(times[3], positions=[1], labels=[labels[3]], widths=.001,\n",
    "           flierprops=flierprops, medianprops=medianprops, \n",
    "           showbox=False, showcaps=False)\n",
    "ax.boxplot(times[4], positions=[1.25], labels=[labels[4]], widths=.001,\n",
    "           flierprops=flierprops, medianprops=medianprops, \n",
    "           showbox=False, showcaps=False)\n",
    "ax.boxplot(times[5], positions=[1.5], labels=[labels[5]], widths=.001,\n",
    "           flierprops=flierprops, medianprops=medianprops, \n",
    "           showbox=False, showcaps=False)\n",
    "\n",
    "plt.tight_layout(w_pad=.5, h_pad=1.0)\n",
    "plt.show()\n",
    "fig.savefig('Images\\BoxPlot_Outliers.png', dpi=300)"
   ]
  },
  {
   "cell_type": "code",
   "execution_count": 258,
   "metadata": {},
   "outputs": [
    {
     "data": {
      "image/png": "[encoded data removed]",
      "text/plain": [
       "<Figure size 576x432 with 1 Axes>"
      ]
     },
     "metadata": {
      "needs_background": "light"
     },
     "output_type": "display_data"
    }
   ],
   "source": [
    "labels = ['Metalcore', 'Classical', 'Silence', 'TV Show', 'Audiobook', 'Country']\n",
    "flierprops = dict(marker='.', markerfacecolor='black', markersize=4, linestyle='none')\n",
    "medianprops = dict(marker='.', markerfacecolor='black', markeredgecolor='white', markersize=12, linestyle='none')\n",
    "\n",
    "fig, ax = plt.subplots(figsize=(8,6))\n",
    "plt.ylabel('Seconds')\n",
    "plt.title('Rubik\\'s Cube Solve Time by Auditory Stimuli', fontsize=16)\n",
    "plt.xlim([0, 1.75])\n",
    "plt.ylim([15, 42])\n",
    "\n",
    "\n",
    "ax.yaxis.set_ticks_position('none')\n",
    "ax.xaxis.set_ticks_position('none')\n",
    "ax.spines['top'].set_visible(False)\n",
    "ax.spines['right'].set_visible(False)\n",
    "ax.spines['left'].set_visible(False)\n",
    "ax.spines['bottom'].set_visible(False)\n",
    "\n",
    "ax.boxplot(times[0], positions=[.25], labels=[labels[0]], widths=.001,\n",
    "           showfliers=False, medianprops=medianprops, \n",
    "           showbox=False, showcaps=False)\n",
    "ax.boxplot(times[1], positions=[.5], labels=[labels[1]], widths=.001,\n",
    "           showfliers=False, medianprops=medianprops, \n",
    "           showbox=False, showcaps=False)\n",
    "ax.boxplot(times[2], positions=[.75], labels=[labels[2]], widths=.001,\n",
    "           showfliers=False, medianprops=medianprops, \n",
    "           showbox=False, showcaps=False)\n",
    "ax.boxplot(times[3], positions=[1], labels=[labels[3]], widths=.001,\n",
    "           showfliers=False, medianprops=medianprops, \n",
    "           showbox=False, showcaps=False)\n",
    "ax.boxplot(times[4], positions=[1.25], labels=[labels[4]], widths=.001,\n",
    "           showfliers=False, medianprops=medianprops, \n",
    "           showbox=False, showcaps=False)\n",
    "ax.boxplot(times[5], positions=[1.5], labels=[labels[5]], widths=.001,\n",
    "           showfliers=False, medianprops=medianprops, \n",
    "           showbox=False, showcaps=False)\n",
    "\n",
    "plt.tight_layout(w_pad=.5, h_pad=1.0)\n",
    "plt.show()\n",
    "fig.savefig('Images\\BoxPlot_No_Outliers.png', dpi=300)"
   ]
  },
  {
   "cell_type": "markdown",
   "metadata": {},
   "source": [
    "# Statistical Difference?"
   ]
  },
  {
   "cell_type": "code",
   "execution_count": null,
   "metadata": {},
   "outputs": [],
   "source": []
  },
  {
   "cell_type": "code",
   "execution_count": 340,
   "metadata": {},
   "outputs": [
    {
     "name": "stdout",
     "output_type": "stream",
     "text": [
      "       Metalcore\n",
      "count  75.000000\n",
      "mean   24.391600\n",
      "std     2.667385\n",
      "min    18.400000\n",
      "25%    22.545000\n",
      "50%    24.300000\n",
      "75%    26.390000\n",
      "max    30.100000\n"
     ]
    }
   ],
   "source": [
    "metalcore_sample = metalcore_data.sample(n=75)\n",
    "classical_sample = classical_data.sample(n=75)\n",
    "silence_sample = silence_data.sample(n=75)\n",
    "tv_sample = tv_data.sample(n=75)\n",
    "audiobook_sample = audiobook_data.sample(n=75)\n",
    "country_sample = country_data.sample(n=75)\n",
    "print(metalcore_sample.describe())"
   ]
  },
  {
   "cell_type": "code",
   "execution_count": 345,
   "metadata": {},
   "outputs": [
    {
     "name": "stdout",
     "output_type": "stream",
     "text": [
      "0.9865084290504456 0.6114241480827332\n"
     ]
    }
   ],
   "source": [
    "a, b = stats.shapiro(metalcore_sample)\n",
    "print(a,b)"
   ]
  },
  {
   "cell_type": "code",
   "execution_count": 311,
   "metadata": {},
   "outputs": [
    {
     "name": "stdout",
     "output_type": "stream",
     "text": [
      "Statistics=-2.266, p=0.025\n",
      "Different distributions (reject H0)\n"
     ]
    }
   ],
   "source": [
    "# TTest - Independent\n",
    "stat, p = ttest_ind(country_sample, silence_sample)\n",
    "print('Statistics=%.3f, p=%.3f' % (stat, p))\n",
    "\n",
    "confidence = 95\n",
    "alpha = 1-(confidence/100)\n",
    "if p > alpha:\n",
    "    print('Same distributions (fail to reject H0)')\n",
    "else:\n",
    "    print('Different distributions (reject H0)')"
   ]
  },
  {
   "cell_type": "code",
   "execution_count": 343,
   "metadata": {},
   "outputs": [
    {
     "name": "stdout",
     "output_type": "stream",
     "text": [
      "Statistics=-7.625, p=0.0000000001\n",
      "Different distributions (reject H0)\n"
     ]
    }
   ],
   "source": [
    "stat, p = ttest_rel(classical_sample, silence_sample)\n",
    "print('Statistics=%.3f, p=%.10f' % (stat, p))\n",
    "\n",
    "confidence = 95\n",
    "alpha = 1-(confidence/100)\n",
    "if p > alpha:\n",
    "    print('Same distributions (fail to reject H0)')\n",
    "else:\n",
    "    print('Different distributions (reject H0)')"
   ]
  },
  {
   "cell_type": "code",
   "execution_count": null,
   "metadata": {},
   "outputs": [],
   "source": []
  }
 ],
 "metadata": {
  "kernelspec": {
   "display_name": "Python 3",
   "language": "python",
   "name": "python3"
  },
  "language_info": {
   "codemirror_mode": {
    "name": "ipython",
    "version": 3
   },
   "file_extension": ".py",
   "mimetype": "text/x-python",
   "name": "python",
   "nbconvert_exporter": "python",
   "pygments_lexer": "ipython3",
   "version": "3.8.5"
  }
 },
 "nbformat": 4,
 "nbformat_minor": 4
}
