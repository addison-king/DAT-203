{
 "cells": [
  {
   "cell_type": "code",
   "execution_count": 12,
   "metadata": {},
   "outputs": [],
   "source": [
    "import pandas as pd\n",
    "from pandas import read_csv\n",
    "import matplotlib.pyplot as plt"
   ]
  },
  {
   "cell_type": "code",
   "execution_count": 31,
   "metadata": {},
   "outputs": [],
   "source": [
    "metalcore_data = pd.read_csv('Data/Metalcore.csv',header=None)\n",
    "# print(metalcore_data.head())\n",
    "classical_data = pd.read_csv('Data/Classical.csv',header=None)\n",
    "silence_data = pd.read_csv('Data/Silence.csv',header=None)\n",
    "tv_data = pd.read_csv('Data/TV.csv',header=None)\n",
    "audiobook_data = pd.read_csv('Data/Audiobook.csv',header=None)\n",
    "country_data = pd.read_csv('Data/Country.csv',header=None)"
   ]
  },
  {
   "cell_type": "code",
   "execution_count": 11,
   "metadata": {},
   "outputs": [
    {
     "data": {
      "text/html": [
       "<div>\n",
       "<style scoped>\n",
       "    .dataframe tbody tr th:only-of-type {\n",
       "        vertical-align: middle;\n",
       "    }\n",
       "\n",
       "    .dataframe tbody tr th {\n",
       "        vertical-align: top;\n",
       "    }\n",
       "\n",
       "    .dataframe thead th {\n",
       "        text-align: right;\n",
       "    }\n",
       "</style>\n",
       "<table border=\"1\" class=\"dataframe\">\n",
       "  <thead>\n",
       "    <tr style=\"text-align: right;\">\n",
       "      <th></th>\n",
       "      <th>0</th>\n",
       "    </tr>\n",
       "  </thead>\n",
       "  <tbody>\n",
       "    <tr>\n",
       "      <th>count</th>\n",
       "      <td>360.000000</td>\n",
       "    </tr>\n",
       "    <tr>\n",
       "      <th>mean</th>\n",
       "      <td>24.262139</td>\n",
       "    </tr>\n",
       "    <tr>\n",
       "      <th>std</th>\n",
       "      <td>2.474936</td>\n",
       "    </tr>\n",
       "    <tr>\n",
       "      <th>min</th>\n",
       "      <td>15.750000</td>\n",
       "    </tr>\n",
       "    <tr>\n",
       "      <th>25%</th>\n",
       "      <td>22.622500</td>\n",
       "    </tr>\n",
       "    <tr>\n",
       "      <th>50%</th>\n",
       "      <td>24.305000</td>\n",
       "    </tr>\n",
       "    <tr>\n",
       "      <th>75%</th>\n",
       "      <td>25.802500</td>\n",
       "    </tr>\n",
       "    <tr>\n",
       "      <th>max</th>\n",
       "      <td>30.750000</td>\n",
       "    </tr>\n",
       "  </tbody>\n",
       "</table>\n",
       "</div>"
      ],
      "text/plain": [
       "                0\n",
       "count  360.000000\n",
       "mean    24.262139\n",
       "std      2.474936\n",
       "min     15.750000\n",
       "25%     22.622500\n",
       "50%     24.305000\n",
       "75%     25.802500\n",
       "max     30.750000"
      ]
     },
     "execution_count": 11,
     "metadata": {},
     "output_type": "execute_result"
    }
   ],
   "source": [
    "metalcore_data.describe()"
   ]
  },
  {
   "cell_type": "code",
   "execution_count": 85,
   "metadata": {},
   "outputs": [
    {
     "data": {
      "image/png": "[encoded data removed]",
      "text/plain": [
       "<Figure size 1008x576 with 6 Axes>"
      ]
     },
     "metadata": {
      "needs_background": "light"
     },
     "output_type": "display_data"
    }
   ],
   "source": [
    "hist_small_multiple = plt.figure(figsize=(14,8))\n",
    "\n",
    "ax1 = plt.subplot(231)\n",
    "ax1.hist(metalcore_data, 20, histtype='step', color='black')\n",
    "# plt.title('Metalcore')\n",
    "plt.xlabel('Metalcore')\n",
    "plt.yticks([])\n",
    "plt.xlim([15, 41])\n",
    "ax1.spines['top'].set_visible(False)\n",
    "ax1.spines['left'].set_visible(False)\n",
    "ax1.spines['right'].set_visible(False)\n",
    "#\n",
    "ax2 = plt.subplot(232)\n",
    "ax2.hist(classical_data, 20, histtype='step', color='black')\n",
    "# plt.title('Classical')\n",
    "plt.xlabel('Classical')\n",
    "plt.yticks([])\n",
    "plt.xlim([15, 41])\n",
    "ax2.spines['top'].set_visible(False)\n",
    "ax2.spines['left'].set_visible(False)\n",
    "ax2.spines['right'].set_visible(False)\n",
    "#\n",
    "ax3 = plt.subplot(233)\n",
    "ax3.hist(silence_data, 20, histtype='step', color='black')\n",
    "# plt.title('Silence')\n",
    "plt.xlabel('Silence')\n",
    "plt.yticks([])\n",
    "plt.xlim([15, 41])\n",
    "ax3.spines['top'].set_visible(False)\n",
    "ax3.spines['left'].set_visible(False)\n",
    "ax3.spines['right'].set_visible(False)\n",
    "#\n",
    "ax4 = plt.subplot(234)\n",
    "ax4.hist(tv_data, 20, histtype='step', color='black')\n",
    "# plt.title('TV Show')\n",
    "plt.xlabel('TV Show')\n",
    "plt.yticks([])\n",
    "plt.xlim([15, 41])\n",
    "ax4.spines['top'].set_visible(False)\n",
    "ax4.spines['left'].set_visible(False)\n",
    "ax4.spines['right'].set_visible(False)\n",
    "#\n",
    "ax5 = plt.subplot(235)\n",
    "ax5.hist(audiobook_data, 20, histtype='step', color='black')\n",
    "# plt.title('Audiobook')\n",
    "plt.xlabel('Audiobook')\n",
    "plt.yticks([])\n",
    "plt.xlim([15, 41])\n",
    "ax5.spines['top'].set_visible(False)\n",
    "ax5.spines['left'].set_visible(False)\n",
    "ax5.spines['right'].set_visible(False)\n",
    "#\n",
    "ax6 = plt.subplot(236)\n",
    "ax6.hist(country_data, 20, histtype='step', color='black')\n",
    "# plt.title('Country')\n",
    "plt.xlabel('Country')\n",
    "plt.yticks([])\n",
    "plt.xlim([15, 41])\n",
    "ax6.spines['top'].set_visible(False)\n",
    "ax6.spines['left'].set_visible(False)\n",
    "ax6.spines['right'].set_visible(False)\n",
    "# ax6.spines['bottom'].set_color('dimgray')\n",
    "\n",
    "\n",
    "plt.show()"
   ]
  },
  {
   "cell_type": "code",
   "execution_count": 87,
   "metadata": {},
   "outputs": [],
   "source": [
    "hist_small_multiple.savefig('Images\\Hist_Small_Multiple.png', dpi=300)"
   ]
  },
  {
   "cell_type": "code",
   "execution_count": null,
   "metadata": {},
   "outputs": [],
   "source": []
  }
 ],
 "metadata": {
  "kernelspec": {
   "display_name": "Python 3",
   "language": "python",
   "name": "python3"
  },
  "language_info": {
   "codemirror_mode": {
    "name": "ipython",
    "version": 3
   },
   "file_extension": ".py",
   "mimetype": "text/x-python",
   "name": "python",
   "nbconvert_exporter": "python",
   "pygments_lexer": "ipython3",
   "version": "3.8.5"
  }
 },
 "nbformat": 4,
 "nbformat_minor": 4
}
